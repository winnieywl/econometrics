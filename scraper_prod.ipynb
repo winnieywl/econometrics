{
 "cells": [
  {
   "attachments": {},
   "cell_type": "markdown",
   "metadata": {},
   "source": [
    "Steps:\n",
    "1. Go to the assignment page, https://classroom.github.com/classrooms/123283353-eco-385/assignments/gittask1\n",
    "\n",
    "2. Click the green download button, and click \"Download grades\"\n",
    "\n",
    "3. Replace the value of csv with the name of the downloaded file\n",
    "\n",
    "4. replace your_folder with the path of the folder you want to store all the repo\n",
    "\n",
    "5. Run code"
   ]
  },
  {
   "cell_type": "code",
   "execution_count": 11,
   "metadata": {},
   "outputs": [],
   "source": [
    "# replace the value with the name of the grade csv\n",
    "csv = \"gittask1-grades-1674848937.csv\"\n",
    "\n",
    "# replace the value with the path of your folder\n",
    "your_folder = \"\\OneDrive\\Python\\github scrape\"\n",
    "\n",
    "# you have to pip install gitPython first\n",
    "import pandas as pd\n",
    "import git\n",
    "works = pd.read_csv(csv)\n",
    "repo_urls = works.student_repository_url.values.tolist()\n",
    "for repo in repo_urls:\n",
    "    git.Git(your_folder).clone(repo + \".git\")"
   ]
  }
 ],
 "metadata": {
  "kernelspec": {
   "display_name": "Python 3",
   "language": "python",
   "name": "python3"
  },
  "language_info": {
   "codemirror_mode": {
    "name": "ipython",
    "version": 3
   },
   "file_extension": ".py",
   "mimetype": "text/x-python",
   "name": "python",
   "nbconvert_exporter": "python",
   "pygments_lexer": "ipython3",
   "version": "3.10.9 (tags/v3.10.9:1dd9be6, Dec  6 2022, 20:01:21) [MSC v.1934 64 bit (AMD64)]"
  },
  "orig_nbformat": 4,
  "vscode": {
   "interpreter": {
    "hash": "51516358d34c44abe4b3313c6f182fd2fe5e3fcbb472c438df69ded8fc9f609c"
   }
  }
 },
 "nbformat": 4,
 "nbformat_minor": 2
}
